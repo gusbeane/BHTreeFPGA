{
 "cells": [
  {
   "cell_type": "code",
   "execution_count": 1,
   "metadata": {},
   "outputs": [],
   "source": [
    "%load_ext autoreload\n",
    "%autoreload 2"
   ]
  },
  {
   "cell_type": "code",
   "execution_count": 3,
   "metadata": {},
   "outputs": [],
   "source": [
    "import numpy as np\n",
    "from prototype import *\n",
    "import matplotlib.pyplot as plt\n",
    "import copy"
   ]
  },
  {
   "cell_type": "code",
   "execution_count": 84,
   "metadata": {},
   "outputs": [],
   "source": [
    "data = np.load('nbody_golden.npz')\n",
    "pos = data['pos']\n",
    "\n",
    "keys = generate_ph_key_from_list(pos)"
   ]
  },
  {
   "cell_type": "code",
   "execution_count": 9,
   "metadata": {},
   "outputs": [
    {
     "name": "stdout",
     "output_type": "stream",
     "text": [
      "[0, 0, 0] 000\n",
      "[4294967295, 0, 0] 011\n",
      "[0, 4294967295, 0] 001\n",
      "[0, 0, 4294967295] 111\n",
      "[0, 4294967295, 4294967295] 110\n",
      "[4294967295, 0, 4294967295] 100\n",
      "[4294967295, 4294967295, 0] 010\n",
      "[4294967295, 4294967295, 4294967295] 101\n"
     ]
    }
   ],
   "source": [
    "MAX_INT32 = np.iinfo(np.uint32).max\n",
    "pos = [0, 0, 0]\n",
    "print(pos, format(generate_ph_key(pos, MAX_DEPTH), '032b')[2:5])\n",
    "\n",
    "pos = [MAX_INT32, 0, 0]\n",
    "print(pos, format(generate_ph_key(pos, MAX_DEPTH), '032b')[2:5])\n",
    "\n",
    "pos = [0, MAX_INT32, 0]\n",
    "print(pos, format(generate_ph_key(pos, MAX_DEPTH), '032b')[2:5])\n",
    "\n",
    "pos = [0, 0, MAX_INT32]\n",
    "print(pos, format(generate_ph_key(pos, MAX_DEPTH), '032b')[2:5])\n",
    "\n",
    "pos = [0, MAX_INT32, MAX_INT32]\n",
    "print(pos, format(generate_ph_key(pos, MAX_DEPTH), '032b')[2:5])\n",
    "\n",
    "pos = [MAX_INT32, 0, MAX_INT32]\n",
    "print(pos, format(generate_ph_key(pos, MAX_DEPTH), '032b')[2:5])\n",
    "\n",
    "pos = [MAX_INT32, MAX_INT32, 0]\n",
    "print(pos, format(generate_ph_key(pos, MAX_DEPTH), '032b')[2:5])\n",
    "\n",
    "pos = [MAX_INT32, MAX_INT32, MAX_INT32]\n",
    "print(pos, format(generate_ph_key(pos, MAX_DEPTH), '032b')[2:5])\n",
    "\n",
    "\n"
   ]
  },
  {
   "cell_type": "code",
   "execution_count": 28,
   "metadata": {},
   "outputs": [
    {
     "name": "stdout",
     "output_type": "stream",
     "text": [
      "uint32\n"
     ]
    }
   ],
   "source": [
    "data = np.load('nbody_golden.npz')\n",
    "pos = data['pos']\n",
    "pos_float = data['pos_float']\n",
    "acc = data['acc']\n",
    "M = np.full(pos.shape[0], data['M'])\n",
    "G = data['G']\n",
    "eps = data['eps']\n",
    "\n",
    "print(pos.dtype)\n",
    "\n",
    "keys = generate_ph_key_from_list(pos)\n",
    "sorted_indices = np.argsort(keys)\n",
    "pos = pos[sorted_indices]\n",
    "pos_float = pos_float[sorted_indices]\n",
    "acc = acc[sorted_indices]\n",
    "keys = keys[sorted_indices]"
   ]
  },
  {
   "cell_type": "code",
   "execution_count": 13,
   "metadata": {},
   "outputs": [
    {
     "data": {
      "text/plain": [
       "(0.0, 1.0)"
      ]
     },
     "execution_count": 13,
     "metadata": {},
     "output_type": "execute_result"
    },
    {
     "data": {
      "image/png": "[encoded data removed]",
      "text/plain": [
       "<Figure size 640x480 with 1 Axes>"
      ]
     },
     "metadata": {},
     "output_type": "display_data"
    }
   ],
   "source": [
    "plt.scatter(pos_float[:40,0], pos_float[:40,2])\n",
    "plt.xlim(0, 1)\n",
    "plt.ylim(0, 1)"
   ]
  },
  {
   "cell_type": "code",
   "execution_count": 155,
   "metadata": {},
   "outputs": [
    {
     "name": "stdout",
     "output_type": "stream",
     "text": [
      "  0   1   2   3   4   5   6   7   8   9  10  11\n",
      "000 000 000 000 000 000 000 000 000 000 000 000\n",
      "000 000 000 000 000 000 000 000 000 000 000 000\n",
      "000 000 000 000 000 000 000 000 000 000 000 000\n",
      "000 000 000 000 000 000 000 000 000 000 000 000\n",
      "000 000 000 000 000 000 000 000 000 000 000 000\n",
      "000 000 000 000 000 000 000 000 000 000 000 000\n",
      "000 000 000 000 000 000 000 000 000 000 000 000\n",
      "000 000 000 000 000 000 000 000 000 000 000 000\n",
      "000 000 001 001 001 001 010 010 010 010 010 011\n",
      "001 110 011 100 110 110 001 001 011 011 101 000\n"
     ]
    }
   ],
   "source": [
    "start = 0\n",
    "\n",
    "key0 = keys[start]\n",
    "key1 = keys[start+1]\n",
    "key2 = keys[start+2]\n",
    "key3 = keys[start+3]\n",
    "key4 = keys[start+4]\n",
    "key5 = keys[start+5]\n",
    "key6 = keys[start+6]\n",
    "key7 = keys[start+7]\n",
    "key8 = keys[start+8]\n",
    "key9 = keys[start+9]\n",
    "key10 = keys[start+10]\n",
    "key11 = keys[start+11]\n",
    "\n",
    "def fmt(key, i):\n",
    "    return format(key, '032b')[2+i*3:5+i*3]\n",
    "\n",
    "print('  0', '  1', '  2', '  3', '  4', '  5', '  6', '  7', '  8', '  9', ' 10', ' 11')\n",
    "for i in range(10):\n",
    "    print(fmt(key0, i), fmt(key1, i), fmt(key2, i), fmt(key3, i), fmt(key4, i), fmt(key5, i), fmt(key6, i), fmt(key7, i), fmt(key8, i), fmt(key9, i), fmt(key10, i), fmt(key11, i))"
   ]
  },
  {
   "cell_type": "code",
   "execution_count": 29,
   "metadata": {},
   "outputs": [],
   "source": [
    "tree = generate_tree(pos_float, keys, M)"
   ]
  },
  {
   "cell_type": "code",
   "execution_count": 30,
   "metadata": {},
   "outputs": [
    {
     "name": "stdout",
     "output_type": "stream",
     "text": [
      "00 T 9999 1 4 00000000000000000000111111111111 111111111111110101111011000100\n",
      "01 F 9995 4 4 00000000000000000000111111111101 111111111101000110101110001001\n",
      "02 T 9998 1 5 00000000000000000111111111101111 111111111101111100100010100110\n",
      "03 F 9996 2 5 00000000000000000111111111101110 111111111101110101111110111001\n",
      "04 T 9997 1 6 00000000000000111111111101110111 111111111101110111101111000101\n",
      "05 T 9996 1 6 00000000000000111111111101110101 111111111101110101111110111001\n",
      "06 T 9995 1 5 00000000000000000111111111101000 111111111101000110101110001001\n",
      "07 T 9994 1 4 00000000000000000000111111111011 111111111011001100000000101011\n",
      "08 T 9993 1 4 00000000000000000000111111111010 111111111010001100010101010110\n",
      "09 T 9992 1 4 00000000000000000000111111111001 111111111001011011110010011101\n"
     ]
    }
   ],
   "source": [
    "for i in range(10):\n",
    "    if i < len(tree):\n",
    "        print(\"{:02d}\".format(i), ['F', 'T'][tree[i].is_leaf], format(tree[i].start_idx, '02d'), tree[i].Npart, tree[i].level, format(tree[i].key, '032b'), format(keys[tree[i].start_idx], '032b')[2:])"
   ]
  },
  {
   "cell_type": "code",
   "execution_count": 13,
   "metadata": {},
   "outputs": [
    {
     "name": "stdout",
     "output_type": "stream",
     "text": [
      "  0   1   2   3   4   5   6   7   8   9  10  11\n",
      " lf  nd  lf  lf  lf  lf  lf  lf  nd  lf  lf  lf\n",
      "000 000 000 000 000 000 000 000 000 000 000 000\n",
      "000 000 000 000 000 000 000 000 000 000 000 000\n",
      "000 000 000 000 000 000 000 000 000 000 000 000\n",
      "000 000 000 000 000 000 000 000 000 000 000 000\n",
      "000 000 000 000 000 000 000 000 000 000 000 000\n",
      "000 000 111 111 111 000 000 000 000 111 111 111\n",
      "111 111 111 111 111 111 111 111 111 111 111 111\n",
      "111 111 111 111 111 111 111 111 111 111 111 111\n",
      "111 111 101 101 101 111 111 111 111 000 000 000\n",
      "111 101 111 110 000 011 010 001 000 110 101 011\n"
     ]
    }
   ],
   "source": [
    "start = 0\n",
    "\n",
    "tree0 = tree[start]\n",
    "tree1 = tree[start+1]\n",
    "tree2 = tree[start+2]\n",
    "tree3 = tree[start+3]\n",
    "tree4 = tree[start+4]\n",
    "tree5 = tree[start+5]\n",
    "tree6 = tree[start+6]\n",
    "tree7 = tree[start+7]\n",
    "tree8 = tree[start+8]\n",
    "tree9 = tree[start+9]\n",
    "tree10 = tree[start+10]\n",
    "tree11 = tree[start+11]\n",
    "\n",
    "def fmt(key, i):\n",
    "    return format(key, '032b')[2+i*3:5+i*3]\n",
    "\n",
    "def TorF(node):\n",
    "    return [' nd', ' lf'][node.is_leaf]\n",
    "\n",
    "print('  0', '  1', '  2', '  3', '  4', '  5', '  6', '  7', '  8', '  9', ' 10', ' 11')\n",
    "print(TorF(tree0), TorF(tree1), TorF(tree2), TorF(tree3), TorF(tree4), TorF(tree5), TorF(tree6), TorF(tree7), TorF(tree8), TorF(tree9), TorF(tree10), TorF(tree11))\n",
    "for i in range(10):\n",
    "    print(fmt(tree0.key, i), fmt(tree1.key, i), fmt(tree2.key, i), fmt(tree3.key, i), fmt(tree4.key, i), fmt(tree5.key, i), fmt(tree6.key, i), fmt(tree7.key, i), fmt(tree8.key, i), fmt(tree9.key, i), fmt(tree10.key, i), fmt(tree11.key, i))"
   ]
  },
  {
   "cell_type": "code",
   "execution_count": 127,
   "metadata": {},
   "outputs": [],
   "source": [
    "data = np.load('nbody_golden.npz')\n",
    "pos = data['pos']\n",
    "pos_float = data['pos_float']\n",
    "pos_eval = data['pos_eval']\n",
    "pos_eval_float = data['pos_eval_float']\n",
    "acc_eval = data['acc_eval']\n",
    "M = np.full(pos.shape[0], data['M'])\n",
    "G = data['G']\n",
    "eps = data['eps']\n",
    "\n",
    "keys = generate_ph_key_from_list(pos)\n",
    "sorted_indices = np.argsort(keys)\n",
    "pos = pos[sorted_indices]\n",
    "pos_float = pos_float[sorted_indices]\n",
    "keys = keys[sorted_indices]\n",
    "\n",
    "tree = generate_tree(pos_float, keys, M)"
   ]
  },
  {
   "cell_type": "code",
   "execution_count": 135,
   "metadata": {},
   "outputs": [],
   "source": [
    "# def walk_tree(tree, pos, theta=0.5):\n",
    "pos0 = pos_eval_float[0]\n",
    "acc = np.zeros(3)\n",
    "theta = 0.5\n",
    "Nint_leaf = 0\n",
    "Nint_node = 0\n",
    "if True:\n",
    "    # we start by opening all the top level nodes\n",
    "    current_level = 1\n",
    "    for tr in tree:\n",
    "        # we are ignoring all nodes that are finer (higher) than the current level\n",
    "        if tr.level > current_level:\n",
    "            continue\n",
    "\n",
    "        # if tr.level is smaller than current_level, it means that we've exhausted all the nodes at current level\n",
    "        # and we are moving on to the next subnode in the parent node\n",
    "        current_level = tr.level\n",
    "\n",
    "        # okay, so if we are at a leaf, we loop through all particles and add to our acc\n",
    "        if tr.is_leaf:\n",
    "            for i in range(tr.Npart):\n",
    "                rsq = np.sum((pos_float[tr.start_idx+i] - pos0)**2)\n",
    "                rcubed = rsq**(3./2.)\n",
    "                acc += G * M[i] * (pos_float[tr.start_idx+i] - pos0) / rcubed\n",
    "                Nint_leaf += 1\n",
    "            continue\n",
    "        \n",
    "        # otherwise, we are at a node, so we need to decide whether or not to open it\n",
    "        # using geometric opening criterion\n",
    "        Lnode = 1./(2**tr.level)\n",
    "        d = np.linalg.norm(tr.com - pos0)\n",
    "        # print(d, Lnode, theta)\n",
    "        if d < Lnode/theta:\n",
    "            current_level += 1\n",
    "        else:\n",
    "            # we are not opening this node, just use its com to compute acc\n",
    "            acc += G * tr.mass * (tr.com - pos0) / (np.linalg.norm(tr.com - pos0)**3)\n",
    "            Nint_node += 1"
   ]
  },
  {
   "cell_type": "code",
   "execution_count": 136,
   "metadata": {},
   "outputs": [
    {
     "name": "stdout",
     "output_type": "stream",
     "text": [
      "64 289\n"
     ]
    }
   ],
   "source": []
  },
  {
   "cell_type": "code",
   "execution_count": 137,
   "metadata": {},
   "outputs": [
    {
     "data": {
      "text/plain": [
       "array([-1.53464301, -1.60363688, -1.41835796])"
      ]
     },
     "execution_count": 137,
     "metadata": {},
     "output_type": "execute_result"
    }
   ],
   "source": [
    "acc"
   ]
  },
  {
   "cell_type": "code",
   "execution_count": 138,
   "metadata": {},
   "outputs": [
    {
     "data": {
      "text/plain": [
       "array([-1.534611 , -1.605034 , -1.4217494], dtype=float32)"
      ]
     },
     "execution_count": 138,
     "metadata": {},
     "output_type": "execute_result"
    }
   ],
   "source": [
    "acc_eval[0]"
   ]
  },
  {
   "cell_type": "code",
   "execution_count": 125,
   "metadata": {},
   "outputs": [
    {
     "data": {
      "text/plain": [
       "array([4044253383, 2794408322, 1826214100], dtype=uint32)"
      ]
     },
     "execution_count": 125,
     "metadata": {},
     "output_type": "execute_result"
    }
   ],
   "source": [
    "pos_eval[0]"
   ]
  },
  {
   "cell_type": "code",
   "execution_count": 126,
   "metadata": {},
   "outputs": [
    {
     "data": {
      "text/plain": [
       "array([0.94162613, 0.6506239 , 0.4251986 ], dtype=float32)"
      ]
     },
     "execution_count": 126,
     "metadata": {},
     "output_type": "execute_result"
    }
   ],
   "source": [
    "pos0"
   ]
  },
  {
   "cell_type": "code",
   "execution_count": null,
   "metadata": {},
   "outputs": [],
   "source": []
  }
 ],
 "metadata": {
  "kernelspec": {
   "display_name": ".venv",
   "language": "python",
   "name": "python3"
  },
  "language_info": {
   "codemirror_mode": {
    "name": "ipython",
    "version": 3
   },
   "file_extension": ".py",
   "mimetype": "text/x-python",
   "name": "python",
   "nbconvert_exporter": "python",
   "pygments_lexer": "ipython3",
   "version": "3.13.3"
  }
 },
 "nbformat": 4,
 "nbformat_minor": 2
}
